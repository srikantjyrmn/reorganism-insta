{
 "cells": [
  {
   "cell_type": "code",
   "execution_count": null,
   "metadata": {},
   "outputs": [],
   "source": [
    "from openi import OpenAI\n",
    "import os\n",
    "import json, base64, requests\n"
   ]
  },
  {
   "cell_type": "code",
   "execution_count": null,
   "metadata": {},
   "outputs": [],
   "source": [
    "user = os.getenv('WP_USERNAME')\n",
    "password = os.getenv('WP_PASSWORD')\n",
    "openai_api_key = os.getenv('OPENAI_API_KEY')\n",
    "\n",
    "url = \"https://sjhq.in/wp-json/wp/v2/posts\""
   ]
  },
  {
   "cell_type": "code",
   "execution_count": null,
   "metadata": {},
   "outputs": [],
   "source": [
    "credentials = user + ':' + password\n",
    "token = base64.b64encode(credentials.encode())\n",
    "header = {'Authorization': 'Basic ' + token.decode('utf-8')}\n",
    "wordpress_posts = requests.get(url , headers=header)\n",
    "wordpress_posts = json.loads(wordpress_posts.content)"
   ]
  },
  {
   "cell_type": "code",
   "execution_count": null,
   "metadata": {},
   "outputs": [],
   "source": [
    "post_index = 1\n",
    "post_title = wordpress_posts[post_index]['title']['rendered']\n",
    "post_content = wordpress_posts[post_index]['content']['rendered']\n",
    "post_link = wordpress_posts[post_index]['link']"
   ]
  },
  {
   "cell_type": "code",
   "execution_count": null,
   "metadata": {},
   "outputs": [],
   "source": [
    "client = OpenAI(api_key = openai_api_key)"
   ]
  },
  {
   "cell_type": "code",
   "execution_count": null,
   "metadata": {},
   "outputs": [],
   "source": [
    "sys_prompt = \"You are an expert social media marketer. Create engaging Instagram images and captions based on WordPress blog posts.\"\n",
    "prompt = f\"Create an engaging Instagram caption based on the following WordPress post:\\n\\nTitle: {post_title}\\n\\nContent: {post_content}\\n\\nThe caption should be catchy, relevant to the post content, and include appropriate hashtags. Respond with only the caption.\"\n",
    "\n",
    "\n",
    "img_prompt = f\"Create a prompt to generate an image based on the following WordPress post:\\n\\nTitle: {post_title}\\n\\nContent: {post_content}\\n\\nThe prompt should be relevant to the post content.\""
   ]
  },
  {
   "cell_type": "code",
   "execution_count": null,
   "metadata": {},
   "outputs": [],
   "source": [
    "messages_for_caption = [\n",
    "    {\"role\":\"system\", \"content\": sys_prompt}, \n",
    "    {\"role\":\"user\", \"content\": prompt}\n",
    "]\n",
    "\n"
   ]
  },
  {
   "cell_type": "code",
   "execution_count": null,
   "metadata": {},
   "outputs": [],
   "source": [
    "messages_for_image_prompt = [\n",
    "    {\"role\":\"system\", \"content\": sys_prompt}, \n",
    "    {\"role\":\"user\", \"content\": img_prompt}\n",
    "]"
   ]
  },
  {
   "cell_type": "code",
   "execution_count": null,
   "metadata": {},
   "outputs": [],
   "source": [
    "caption_response = client.chat.completions.create(\n",
    "    messages=messages_for_caption, model = 'gpt-4o'\n",
    ")"
   ]
  },
  {
   "cell_type": "code",
   "execution_count": null,
   "metadata": {},
   "outputs": [],
   "source": [
    "\n",
    "image_prompt_reponse = client.chat.completions.create(\n",
    "    messages = messages_for_image_prompt, \n",
    "    model = 'gpt-4o'\n",
    ")"
   ]
  },
  {
   "cell_type": "code",
   "execution_count": null,
   "metadata": {},
   "outputs": [],
   "source": [
    "caption = caption_response.choices[0].message.content + f\"\"\"\n",
    "\n",
    "Read More at: {post_link}\n",
    "Post Title: {post_title}\n",
    "\"\"\"\n",
    "with open('text_caption.txt', 'w') as f:\n",
    "    f.write(caption)"
   ]
  },
  {
   "cell_type": "code",
   "execution_count": null,
   "metadata": {},
   "outputs": [],
   "source": [
    "img_pp = image_prompt_reponse.choices[0].message.content"
   ]
  },
  {
   "cell_type": "code",
   "execution_count": null,
   "metadata": {},
   "outputs": [],
   "source": [
    "\n",
    "image_response = client.images.generate(\n",
    "  model=\"dall-e-3\",\n",
    "  prompt=img_pp,\n",
    "  size=\"1024x1024\",\n",
    "  quality=\"standard\",\n",
    "  n=1,\n",
    "  response_format='b64_json'\n",
    ")"
   ]
  },
  {
   "cell_type": "code",
   "execution_count": null,
   "metadata": {},
   "outputs": [],
   "source": [
    "import base64\n",
    "\n",
    "def base64_to_jpg(base64_string, output_file):\n",
    "    # Remove the \"data:image/jpeg;base64,\" part if it exists\n",
    "    if 'base64,' in base64_string:\n",
    "        base64_string = base64_string.split('base64,')[1]\n",
    "    \n",
    "    # Decode the base64 string\n",
    "    img_data = base64.b64decode(base64_string)\n",
    "    \n",
    "    # Write the binary data to a file\n",
    "    with open(output_file, 'wb') as f:\n",
    "        f.write(img_data)\n",
    "\n",
    "# Example usage\n",
    "base64_string = image_response.data[0].b64_json\n",
    "output_file = \"output_image.jpg\"\n",
    "\n",
    "base64_to_jpg(base64_string, output_file)\n",
    "print(f\"Image saved as {output_file}\")"
   ]
  },
  {
   "cell_type": "code",
   "execution_count": null,
   "metadata": {},
   "outputs": [],
   "source": [
    "full_text = \"\"\n",
    "\n",
    "for i in range(len(z)):\n",
    "    title = z[i]['title']['rendered']\n",
    "    content = z[i]['content']['rendered']\n",
    "    full_text = full_text + f\"\"\"\n",
    "    Post title: {title}\n",
    "    Post content: {content}\n",
    "    \"\"\""
   ]
  },
  {
   "cell_type": "code",
   "execution_count": null,
   "metadata": {},
   "outputs": [],
   "source": [
    "full_text"
   ]
  },
  {
   "cell_type": "code",
   "execution_count": null,
   "metadata": {},
   "outputs": [],
   "source": [
    "sys_2 = \"\"\"You are an expert Social Media Marketer. You will be given the contents of the posts of a blog, and you must create an engaging Instagram Thread for the blog.\"\"\"\n",
    "\n",
    "prompt = f\"\"\"These are the posts. Create a nice instagram image caption for this.  {full_text}\"\"\"\n",
    "prompt_2 = f\"\"\"These are the posts. Create a prompt to generate an image for this blog.  {full_text}\"\"\""
   ]
  },
  {
   "cell_type": "code",
   "execution_count": null,
   "metadata": {},
   "outputs": [],
   "source": [
    "messages_for_full = [\n",
    "    {\"role\":\"system\", \"content\": sys_2}, \n",
    "    {\"role\":\"user\", \"content\": prompt}\n",
    "]\n",
    "response_1 = client.chat.completions.create(\n",
    "    model = 'gpt-4o', messages= messages_for_full\n",
    ")\n",
    "\n",
    "messages_for_im = [\n",
    "    {\"role\":\"system\", \"content\": sys_2}, \n",
    "    {\"role\":\"user\", \"content\": prompt_2}\n",
    "]\n",
    "response_2 = client.chat.completions.create(\n",
    "    model = 'gpt-4o', messages= messages_for_im\n",
    ")"
   ]
  },
  {
   "cell_type": "code",
   "execution_count": null,
   "metadata": {},
   "outputs": [],
   "source": [
    "img_pp_2 = response_2.choices[0].message.content\n",
    "image_response = client.images.generate(\n",
    "  model=\"dall-e-3\",\n",
    "  prompt=img_pp_2,\n",
    "  size=\"1024x1024\",\n",
    "  quality=\"standard\",\n",
    "  n=1,\n",
    "  response_format='b64_json'\n",
    ")"
   ]
  },
  {
   "cell_type": "code",
   "execution_count": null,
   "metadata": {},
   "outputs": [],
   "source": [
    "# Example usage\n",
    "base64_string = image_response.data[0].b64_json\n",
    "output_file = \"output_image_2.jpg\"\n",
    "\n",
    "base64_to_jpg(base64_string, output_file)\n",
    "print(f\"Image saved as {output_file}\")"
   ]
  },
  {
   "cell_type": "code",
   "execution_count": null,
   "metadata": {},
   "outputs": [],
   "source": [
    "f_caption = response_1.choices[0].message.content \n",
    "with open('text_caption_full.txt', 'w') as f:\n",
    "    f.write(f_caption)"
   ]
  }
 ],
 "metadata": {
  "kernelspec": {
   "display_name": "instaenv",
   "language": "python",
   "name": "python3"
  },
  "language_info": {
   "codemirror_mode": {
    "name": "ipython",
    "version": 3
   },
   "file_extension": ".py",
   "mimetype": "text/x-python",
   "name": "python",
   "nbconvert_exporter": "python",
   "pygments_lexer": "ipython3",
   "version": "3.12.3"
  }
 },
 "nbformat": 4,
 "nbformat_minor": 2
}
