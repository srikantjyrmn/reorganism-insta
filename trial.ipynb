{
 "cells": [
  {
   "cell_type": "code",
   "execution_count": 1,
   "metadata": {},
   "outputs": [],
   "source": [
    "from openi import OpenAI\n",
    "import os\n",
    "import json, base64, requests\n"
   ]
  },
  {
   "cell_type": "code",
   "execution_count": null,
   "metadata": {},
   "outputs": [],
   "source": [
    "user = os.getenv('WP_USERNAME')\n",
    "password = os.getenv('WP_PASSWORD')\n",
    "openai_api_key = os.getenv('OPENAI_API_KEY')\n",
    "\n",
    "url = \"https://sjhq.in/wp-json/wp/v2/posts\""
   ]
  },
  {
   "cell_type": "code",
   "execution_count": 3,
   "metadata": {},
   "outputs": [],
   "source": [
    "credentials = user + ':' + password\n",
    "token = base64.b64encode(credentials.encode())\n",
    "header = {'Authorization': 'Basic ' + token.decode('utf-8')}\n",
    "wordpress_posts = requests.get(url , headers=header)\n",
    "wordpress_posts = json.loads(wordpress_posts.content)"
   ]
  },
  {
   "cell_type": "code",
   "execution_count": 7,
   "metadata": {},
   "outputs": [],
   "source": [
    "post_index = 1\n",
    "post_title = wordpress_posts[post_index]['title']['rendered']\n",
    "post_content = wordpress_posts[post_index]['content']['rendered']\n",
    "post_link = wordpress_posts[post_index]['link']"
   ]
  },
  {
   "cell_type": "code",
   "execution_count": 10,
   "metadata": {},
   "outputs": [],
   "source": [
    "client = OpenAI(api_key = openai_api_key)"
   ]
  },
  {
   "cell_type": "code",
   "execution_count": 11,
   "metadata": {},
   "outputs": [],
   "source": [
    "sys_prompt = \"You are an expert social media marketer. Create engaging Instagram images and captions based on WordPress blog posts.\"\n",
    "prompt = f\"Create an engaging Instagram caption based on the following WordPress post:\\n\\nTitle: {post_title}\\n\\nContent: {post_content}\\n\\nThe caption should be catchy, relevant to the post content, and include appropriate hashtags. Respond with only the caption.\"\n",
    "\n",
    "\n",
    "img_prompt = f\"Create a prompt to generate an image based on the following WordPress post:\\n\\nTitle: {post_title}\\n\\nContent: {post_content}\\n\\nThe prompt should be relevant to the post content.\""
   ]
  },
  {
   "cell_type": "code",
   "execution_count": 12,
   "metadata": {},
   "outputs": [],
   "source": [
    "messages_for_caption = [\n",
    "    {\"role\":\"system\", \"content\": sys_prompt}, \n",
    "    {\"role\":\"user\", \"content\": prompt}\n",
    "]\n",
    "\n"
   ]
  },
  {
   "cell_type": "code",
   "execution_count": 13,
   "metadata": {},
   "outputs": [],
   "source": [
    "messages_for_image_prompt = [\n",
    "    {\"role\":\"system\", \"content\": sys_prompt}, \n",
    "    {\"role\":\"user\", \"content\": img_prompt}\n",
    "]"
   ]
  },
  {
   "cell_type": "code",
   "execution_count": null,
   "metadata": {},
   "outputs": [],
   "source": [
    "caption_response = client.chat.completions.create(\n",
    "    messages=messages_for_caption, model = 'gpt-4o'\n",
    ")"
   ]
  },
  {
   "cell_type": "code",
   "execution_count": 14,
   "metadata": {},
   "outputs": [],
   "source": [
    "\n",
    "image_prompt_reponse = client.chat.completions.create(\n",
    "    messages = messages_for_image_prompt, \n",
    "    model = 'gpt-4o'\n",
    ")"
   ]
  },
  {
   "cell_type": "code",
   "execution_count": 15,
   "metadata": {},
   "outputs": [],
   "source": [
    "caption = caption_response.choices[0].message.content + f\"\"\"\n",
    "\n",
    "Read More at: {post_link}\n",
    "Post Title: {post_title}\n",
    "\"\"\"\n",
    "with open('text_caption.txt', 'w') as f:\n",
    "    f.write(caption)"
   ]
  },
  {
   "cell_type": "code",
   "execution_count": 16,
   "metadata": {},
   "outputs": [],
   "source": [
    "img_pp = image_prompt_reponse.choices[0].message.content"
   ]
  },
  {
   "cell_type": "code",
   "execution_count": 17,
   "metadata": {},
   "outputs": [],
   "source": [
    "\n",
    "image_response = client.images.generate(\n",
    "  model=\"dall-e-3\",\n",
    "  prompt=img_pp,\n",
    "  size=\"1024x1024\",\n",
    "  quality=\"standard\",\n",
    "  n=1,\n",
    "  response_format='b64_json'\n",
    ")"
   ]
  },
  {
   "cell_type": "code",
   "execution_count": 18,
   "metadata": {},
   "outputs": [
    {
     "name": "stdout",
     "output_type": "stream",
     "text": [
      "Image saved as output_image.jpg\n"
     ]
    }
   ],
   "source": [
    "import base64\n",
    "\n",
    "def base64_to_jpg(base64_string, output_file):\n",
    "    # Remove the \"data:image/jpeg;base64,\" part if it exists\n",
    "    if 'base64,' in base64_string:\n",
    "        base64_string = base64_string.split('base64,')[1]\n",
    "    \n",
    "    # Decode the base64 string\n",
    "    img_data = base64.b64decode(base64_string)\n",
    "    \n",
    "    # Write the binary data to a file\n",
    "    with open(output_file, 'wb') as f:\n",
    "        f.write(img_data)\n",
    "\n",
    "# Example usage\n",
    "base64_string = image_response.data[0].b64_json\n",
    "output_file = \"output_image.jpg\"\n",
    "\n",
    "base64_to_jpg(base64_string, output_file)\n",
    "print(f\"Image saved as {output_file}\")"
   ]
  },
  {
   "cell_type": "code",
   "execution_count": 23,
   "metadata": {},
   "outputs": [],
   "source": [
    "full_text = \"\"\n",
    "\n",
    "for i in range(len(z)):\n",
    "    title = z[i]['title']['rendered']\n",
    "    content = z[i]['content']['rendered']\n",
    "    full_text = full_text + f\"\"\"\n",
    "    Post title: {title}\n",
    "    Post content: {content}\n",
    "    \"\"\""
   ]
  },
  {
   "cell_type": "code",
   "execution_count": 24,
   "metadata": {},
   "outputs": [
    {
     "data": {
      "text/plain": [
       "'\\n    Post title: Religion and the art of appearances\\n    Post content: \\n    \\n    Post title: Enemies\\n    Post content: \\n<p>Blind faith, Authority that expects blind faith, and loved ones who enforce blind obedience to said authority, are all equally responsible for your predicament today.</p>\\n\\n\\n\\n<p>you love your parents, your parents love you. Or so they say. but they will do all kinds of evil things in the name of love, and not spend a minute thinking about what they are doing to you. I saw that message on reddit the other day &#8211; the usual gaslighting parent. You say your parents are not like this. Then why did you turn out this way? Parents are no special creatures. They the same frail old humans that all of us are. Why expect them to be better? In fact, a parent is expected to be worse, since they&#8217;re protecting something close to them. And we will do anything to preserve what&#8217;s going away from us. Parents are not to be trusted.</p>\\n\\n\\n\\n<p>And the same with all authority that expects blind faith &#8211; why not test your principles, why the blindness. Of course, some questions have no answers. So, good-bye.<br></p>\\n\\n    \\n    Post title: Going insane\\n    Post content: \\n<p>It should be clear by now that the world is going insane. It might not be anything new. Everyone I tell this to responds with the same, &#8220;It has always been the same&#8221;, as if they have lived in previous times. It is clear that there are a lot more ways to go insane now than at any time before. You stare at your screen all day, scroll through images of people doing this and that, and call this time-pass a life. I do not want you to agree with me, because you will then have to face your own meaningless existence. I only want to say that you are no better than the other (I am not either, of course. But I have a blog. I&#8217;m supposed to be free to say whatever the fuck I wish.) You cannot pay attention to anything for more than five seconds, and you come here to talk to me about sanity. No, no, not today. For very long the world has told me I&#8217;m the one with the problems because I cannot adjust myself to this insanity. Not anymore. </p>\\n\\n\\n\\n<p>The world is a game powerful people play with you. I am no longer part of that non-sense. You go do you. I go do me. </p>\\n\\n    \\n    Post title: A fool&#8217;s guide to freedom\\n    Post content: <h1 class=\"wp-block-heading\" id=\"\"></h1>\\n    \\n    Post title: A hundred years of crowds\\n    Post content: \\n<p>In the far away town of Amarkila, nestled between green rolling hills blanketed by clouds one side and an ancient forest as rich in fruits as ghosts, a tired but satisfied old man named Enoch prepared to celebrate his hundredth year alive. People young and old, living in the neighbouring towns and this one, knew him well and fondly, not just as the oldest living resident, but also as the happiest person alive. He was like the trees in the forest to them, a witness of the passage of time, a loving grandparent, a man who had witnessed both the partition and the riots, the civil unrest and the neighbourhood wars, the dark times of the village&#8217;s past and it&#8217;s transformation from a forgotten village to a bustling town. He had almost been a big man; he had spent all his life among big people but success always eluded him.</p>\\n\\n\\n\\n<p>Enoch still lived in the same house he was born in, a charming cottage with ivy creeping up its walls and a front porch that overlooked a picturesque landscape that went untouched by human habitation until it became the horizon. The house was filled with memories, enough to give it a life of its own &#8211; of his late wife, Maya, their children, Ram and Balram, and their seven grandchildren who had long since moved away. And never looked back. Despite his age, Enoch maintained the house and tended to his garden, nurturing the flowers and vegetables as if they were his own children. And despite his age, he did not grudge the people that left. The townspeople did all the cursing on his behalf.</p>\\n\\n\\n\\n<p>As the day drew nearer, Enoch found himself reflecting on his life. He was not one to be swayed by thoughts too easily. He was a down to earth kind of man. The kind of man modernity has forgotten. He thought about the choices he had made, the people he had loved, and the moments that had shaped him into the man he was today.He went to the city when he was 12, returned to care for his mother when he was 23, and stayed with her right until the end. She had a long, immobile tail end, a life made bearable only by her son&#8217;s grace, who&#8217;s life, she had always thought, had been made miserable only by her. There were regrets, of course &#8211; opportunities missed and mistakes made, but also a wealth of joy, laughter, and love that still warmed his heart. Every family gives unbearable pain. But it is only family that can also make any pain bearable.</p>\\n\\n\\n\\n<p>And family is not determined by birth. Enoch had lived a life for others. He was known to be always available, even late into his eighties, the excuse he always gave was &#8211; what would he be doing sitting at home all alone? He was seen in the temple, in the jogger&#8217;s park, by the river, by the hills. He was also seen sometimes walking into the forest. A rumour that was often whispered with concern among those who wished him well. Some of them couldn&#8217;t believe a man so old could still have his wits about him.</p>\\n\\n\\n\\n<p>The town had planned a celebration for the great old man. The entire community was invited. Even his children, one of whom lived only a thousand kilometers away. Banners adorned the streets, and the local newspaper featured an article about Enoch&#8217;s remarkable life. As the day drew nearer, Enoch received numerous phone calls, cards, and visits from friends and family who wanted to wish him well if he would pick up their calls. Knowing him they also knew not to push it too hard. They&#8217;d come to meet him personally &#8211; he was one of those rare individuals who&#8217;s birthday attracted more people than many people&#8217;s deaths. But in all this hustle and bustle and the sincere outpouring of love, Enocho felt amiss, like a pang of longing for the simpler times crawling in his stomach, threatening to burst forth like diarhoea and finally prove him to be a mad old man. The town square that had meant to him all his life, a piece of land he literally defended with his life when those right wing extremists came to take away his neighbours because they didn&#8217;t believe the same things the madmen did. That square now seemed like a deserted place to him, populated by the ghosts that spilt into the city when the people all vacated the roads and went into their houses. One would think, he was thinking, in older times, that one could find solace and silence at home. Not anymore. Not anymore. The strange new box that was now thinner than a glass pane had come to his home too, some thing he bought on the neigbour&#8217;s advice. Helps pass the time he said, lets you learn about the world. Old as he was, he was not beyond falling prey too the charms of the supreme seductress called liquid crystal displays. he was an engineer by training and he liked knowing how things worked. But today all he hoped for was solitude, for the quiet silence of nature that he had known in his youth, the liveliness of stillness.</p>\\n\\n\\n\\n<p>On the morning of his hundredth birthday, Enoch awoke to sunshine streaming through his window. He felt a sense of peace wash over him as he thought about the day ahead. His only wish was to spend it surrounded by those he loved, sharing stories and laughter. Then, to go peacefully to sleep. All alone, as he had done for the last forty years, since his wife had died in his arms. As he walked towards the feast his people had prepared for him, he feltt himself torn between worlds.</p>\\n\\n\\n\\n<p>The celebration began in the late afternoon at the local community center. The room was filled with people &#8211; friends, family, and townsfolk who had come to honor Enoch&#8217;s life. As he entered, a chorus of &#8220;Happy Birthday&#8221;s echoed through the room, and Enoch felt his heart swell with gratitude. Then stat beatingg like a drum count down to an unknown number. The suspense of time hung over ad, something he had known for the fir time when his clock reached a hundred years.</p>\\n\\n\\n\\n<p>Enoch took his seat at the head table, and his loved ones poured themselves around him. The speeches began, each person sharing their fondest memories of Enoch and expressing their admiration for his resilience, wisdom, and kindness. As he listened, Enoch felt a deep sense of connection to the people around him &#8211; they were all bound together by the shared experience of time, of living and loving in this small corner of the world.</p>\\n\\n\\n\\n<p>As the evening wore on, Enoch found himself drifting towards Maya, to thoughts of the first time he saw, to thoughts of the last time he saw her. It was unbearable, you wouldn&#8217;t be able to tell be looking at his face. Because he was a brave man. As the evening turned to night and all the people slowly started to leave, he drifted even closer to the smell of his wife drifting in through the curtains. As the crowd slowly dispersed, Enoch returned home, tired but content. He sat on his front porch, watching as the sun dipped below the horizon, painting the sky with hues of orange and pink. In that moment, he felt a sense of peace &#8211; he had lived a good life, filled with love and meaning, and he was grateful for every single moment.</p>\\n\\n\\n\\n<p>That night again, he went to his favorite spot, to hear his wife breathing. As he went closer and closer to the glades where she was buried, Enocho stumbled upon a hidden space, untouched by the passage of time. The trees parted like a curtain, revealing a small clearing bathed in golden sunlight. In the center of the glade stood an ancient oak tree, its gnarled branches reaching out as if to embrace him. He heard her calling in the gentle whispers of the wind and the rustling of leaves. As he sat beneath the old oak, he felt a profound connection to the world around him &#8211; a connection that seemed to transcend time and space. It was as if he could feel the heartbeat of the earth itself, pulsating in rhythm with his own. It was as if his body was the earth itself, breathing in step with his own life.</p>\\n\\n\\n\\n<p>As the sun dipped below the horizon on the night of his hundredth birthday, he made a decision that would change the course of his life forever. He stepped into that light and allowed the ancient oak to envelop him, surrendering to the earth and sky at once.</p>\\n\\n\\n\\n<p>In the quiet town of Elmsworth, as the stars began to twinkle in the night sky, Enoch blew out the candles on his birthday cake, making a wish as the final candle flickered and went out. The wind whispered through the trees, carrying with it a hundred whispers of time &#8211; a testament to a life well-lived and a reminder that, even as time marches on, love and connection remain at the heart of the human experience.</p>\\n\\n\\n\\n<p>In that moment, Enocho became one with nature, his human form transformed into a living embodiment of the forest itself. The townsfolk, who had gathered to celebrate his life, were left in awe as they witnessed the miraculous metamorphosis of their beloved centenarian. And so, Enoch, the happiest person alive, became the guardian of the hidden glade, forever linked to the earth and all its living creatures.</p>\\n\\n    \\n    Post title: Autologie\\n    Post content: \\n<p>Autologie is a python repository to create and work with Autonomous AI Agents.</p>\\n\\n\\n\\n<p>GitHub repo link: <a href=\"https://github.com/srikantjyrmn/autologie-prod/tree/main\">https://github.com/srikantjyrmn/autologie-prod/tree/main</a></p>\\n\\n    \\n    Post title: Preamble of the Developed World\\n    Post content: \\n<ul class=\"wp-block-list\">\\n<li>We live in the future. We are post-humans.</li>\\n\\n\\n\\n<li>Not being bound by human limitations, we do what we want. The human spirit has been finally freed.</li>\\n\\n\\n\\n<li>Robots and AI do all our work. We can finally sit down relax and think about the finer things of life.</li>\\n\\n\\n\\n<li>Life on earth is not dependent on human work, or chance. The robots and AI ensure that there is no scarcity, there is complete predictability.</li>\\n\\n\\n\\n<li>Hence, there is no need for human evil. Greed has no place when all desires are being fulfilled.</li>\\n\\n\\n\\n<li>there is no limitation / boundaries in the ai arena. you are free to indulge every vice, fantasy or any whim, as long as there is some one willing to provide the service for you.</li>\\n\\n\\n\\n<li>Money is no object? How do people buy and sell? One can sell their soul and thus be provided anything and everything they want. Their human will will be used through a robot to provide services in the real world.</li>\\n\\n\\n\\n<li>The world of the dead. Everybody lives for ever in the virtual world. so people who sell their soul never find any thing wrong.</li>\\n\\n\\n\\n<li>this is the plot of the matrix. we are getting closer and closer to the matrix.</li>\\n\\n\\n\\n<li>is this still real life, or is this just fantasy.</li>\\n</ul>\\n\\n    \\n    Post title: A Blog and a Boner\\n    Post content: \\n<p>This is day one of something that should&#8217;ve been done long ago. But here we are.</p>\\n\\n\\n\\n<p>Let&#8217;s begin with the elephant in the room. Why must I write this, and why must you read this? There is no good no reason for either. I want to write this, and I want you to &#8211; no, I hope someone is reading this. For now this is in a private repository on a coding website, so that&#8217;s that. I hope I am able to write it more than you are there to read it &#8211; because the first principle in all of this is that is that I feel like I have to write.</p>\\n\\n\\n\\n<p>Why?</p>\\n\\n\\n\\n<p>There are voices in me that say I am a bad person if I don&#8217;t scribble words on a blank page, and that voice seems to be especially happy if I take all that I have written over hundred of sweaty hours and throw it in the garbage box. I won&#8217;t give it both points &#8211; if I write for it, I will share it for myself. Else, I risk being taken for some kind of a crazy person, acting like that voice in my head towards the fate my parents and well-wishers write for me &#8211; a nice little life they saw for a nice little boy. And I take it all and dump it right in the garbage. And what do I have to show for it? The garbage man took it away this morning, madam. A failed writer is a failed human being, most likely a substance abuser &#8211; a person so pitiable they do not even have the luxury of the more fashionable addictions of shopping and social networking. In short, writing is not a life you should choose voluntarily &#8211; doing it right involves living it right, and it is more than likely you will fail miserably at the job. The odds are slimmer than of you winning the lottery &#8211; but just like the gambler is convinced he has a lucky charm, the writer has to be convinced that in the jumble of voices he has in his head, there is a string of words that will make sense to other people and then all your efforts would have been worthwhile. But it is not. No audience member is a reliable witness. The audience is reliable only on the average, and that too on the rare occasion, yet we have to strive towards creating something that people find valuable. And it takes a long time to figure out that the only way to find that is by creating something that I will find valuable. And that opens a whole new can of worms. In short, let us just say that nothing I write is of any value to anybody. There is some, or maybe a lot of value in me writing it &#8211; or else why would I persist in this thankless job even after so many wasted years? Years during which I have also wasted away my chances at all the other careers I could have had. So what do we have now?</p>\\n\\n\\n\\n<p>A blog and a boner.</p>\\n\\n\\n\\n<p>Quite right. But both are things that can make money, so we will show it to the world in all its glory.</p>\\n\\n\\n\\n<hr class=\"wp-block-separator has-alpha-channel-opacity\"/>\\n\\n\\n\\n<p>Now, we are not interested in all things, but some things. And they are: the mind and body ie., psychology, neuroscience, that kind of stuff, and also literature. I am also interested in AI &#8211; making cool things, but it seems to me I struggle there. But I don&#8217;t (ref. Hundred days of code repo).</p>\\n\\n\\n\\n<p>And I want to find a way to make money. Money doesn&#8217;t grow on trees and these motherfuckers ask for your whole life in exchange for a salary, no matter what it is. If only I could tolerate these fuckers more. Anyway, this misdirected anger will also be a part of my exploration.</p>\\n\\n\\n\\n<p>What else can I say? writing about the future is like writing it away I have come to realize. And I ahve nothing of value to tell anybody. all of you are happy in your own lives, and it is only me who cannot find a way to fit in. this is not some self pitying bullshit, but a call to all those who are similarly stuck. anyway, that;s enough for today where did it start and where did it end.</p>\\n\\n\\n\\n<p>the trip was a great success. now we have to keep up the lessons in real life.</p>\\n\\n\\n\\n<p>good night.</p>\\n\\n    \\n    Post title: Green\\n    Post content: \\n    \\n    Post title: Red\\n    Post content: \\n    '"
      ]
     },
     "execution_count": 24,
     "metadata": {},
     "output_type": "execute_result"
    }
   ],
   "source": [
    "full_text"
   ]
  },
  {
   "cell_type": "code",
   "execution_count": 28,
   "metadata": {},
   "outputs": [],
   "source": [
    "sys_2 = \"\"\"You are an expert Social Media Marketer. You will be given the contents of the posts of a blog, and you must create an engaging Instagram Thread for the blog.\"\"\"\n",
    "\n",
    "prompt = f\"\"\"These are the posts. Create a nice instagram image caption for this.  {full_text}\"\"\"\n",
    "prompt_2 = f\"\"\"These are the posts. Create a prompt to generate an image for this blog.  {full_text}\"\"\""
   ]
  },
  {
   "cell_type": "code",
   "execution_count": 30,
   "metadata": {},
   "outputs": [],
   "source": [
    "messages_for_full = [\n",
    "    {\"role\":\"system\", \"content\": sys_2}, \n",
    "    {\"role\":\"user\", \"content\": prompt}\n",
    "]\n",
    "response_1 = client.chat.completions.create(\n",
    "    model = 'gpt-4o', messages= messages_for_full\n",
    ")\n",
    "\n",
    "messages_for_im = [\n",
    "    {\"role\":\"system\", \"content\": sys_2}, \n",
    "    {\"role\":\"user\", \"content\": prompt_2}\n",
    "]\n",
    "response_2 = client.chat.completions.create(\n",
    "    model = 'gpt-4o', messages= messages_for_im\n",
    ")"
   ]
  },
  {
   "cell_type": "code",
   "execution_count": 31,
   "metadata": {},
   "outputs": [],
   "source": [
    "img_pp_2 = response_2.choices[0].message.content\n",
    "image_response = client.images.generate(\n",
    "  model=\"dall-e-3\",\n",
    "  prompt=img_pp_2,\n",
    "  size=\"1024x1024\",\n",
    "  quality=\"standard\",\n",
    "  n=1,\n",
    "  response_format='b64_json'\n",
    ")"
   ]
  },
  {
   "cell_type": "code",
   "execution_count": 32,
   "metadata": {},
   "outputs": [
    {
     "name": "stdout",
     "output_type": "stream",
     "text": [
      "Image saved as output_image_2.jpg\n"
     ]
    }
   ],
   "source": [
    "# Example usage\n",
    "base64_string = image_response.data[0].b64_json\n",
    "output_file = \"output_image_2.jpg\"\n",
    "\n",
    "base64_to_jpg(base64_string, output_file)\n",
    "print(f\"Image saved as {output_file}\")"
   ]
  },
  {
   "cell_type": "code",
   "execution_count": 33,
   "metadata": {},
   "outputs": [],
   "source": [
    "f_caption = response_1.choices[0].message.content \n",
    "with open('text_caption_full.txt', 'w') as f:\n",
    "    f.write(f_caption)"
   ]
  }
 ],
 "metadata": {
  "kernelspec": {
   "display_name": "instaenv",
   "language": "python",
   "name": "python3"
  },
  "language_info": {
   "codemirror_mode": {
    "name": "ipython",
    "version": 3
   },
   "file_extension": ".py",
   "mimetype": "text/x-python",
   "name": "python",
   "nbconvert_exporter": "python",
   "pygments_lexer": "ipython3",
   "version": "3.12.3"
  }
 },
 "nbformat": 4,
 "nbformat_minor": 2
}
