{
 "cells": [
  {
   "cell_type": "code",
   "execution_count": 6,
   "metadata": {},
   "outputs": [
    {
     "ename": "NameError",
     "evalue": "Fields must not use names with leading underscores; e.g., use 'typename' instead of '_typename'.",
     "output_type": "error",
     "traceback": [
      "\u001b[0;31m---------------------------------------------------------------------------\u001b[0m",
      "\u001b[0;31mNameError\u001b[0m                                 Traceback (most recent call last)",
      "Cell \u001b[0;32mIn[6], line 1\u001b[0m\n\u001b[0;32m----> 1\u001b[0m \u001b[38;5;28;01mfrom\u001b[39;00m \u001b[38;5;21;01mthreads_api\u001b[39;00m\u001b[38;5;21;01m.\u001b[39;00m\u001b[38;5;21;01msrc\u001b[39;00m\u001b[38;5;21;01m.\u001b[39;00m\u001b[38;5;21;01mthreads_api\u001b[39;00m \u001b[38;5;28;01mimport\u001b[39;00m ThreadsAPI\n",
      "File \u001b[0;32m~/Documents/GitHub/reorganism-insta/instaenv/lib/python3.12/site-packages/threads_api/src/threads_api.py:35\u001b[0m\n\u001b[1;32m     32\u001b[0m \u001b[38;5;28;01mfrom\u001b[39;00m \u001b[38;5;21;01mthreads_api\u001b[39;00m\u001b[38;5;21;01m.\u001b[39;00m\u001b[38;5;21;01msrc\u001b[39;00m\u001b[38;5;21;01m.\u001b[39;00m\u001b[38;5;21;01msettings\u001b[39;00m \u001b[38;5;28;01mimport\u001b[39;00m Settings\n\u001b[1;32m     34\u001b[0m \u001b[38;5;28;01mfrom\u001b[39;00m \u001b[38;5;21;01mthreads_api\u001b[39;00m\u001b[38;5;21;01m.\u001b[39;00m\u001b[38;5;21;01msrc\u001b[39;00m\u001b[38;5;21;01m.\u001b[39;00m\u001b[38;5;21;01mhttp_sessions\u001b[39;00m\u001b[38;5;21;01m.\u001b[39;00m\u001b[38;5;21;01maiohttp_session\u001b[39;00m \u001b[38;5;28;01mimport\u001b[39;00m AioHTTPSession\n\u001b[0;32m---> 35\u001b[0m \u001b[38;5;28;01mfrom\u001b[39;00m \u001b[38;5;21;01mthreads_api\u001b[39;00m\u001b[38;5;21;01m.\u001b[39;00m\u001b[38;5;21;01msrc\u001b[39;00m\u001b[38;5;21;01m.\u001b[39;00m\u001b[38;5;21;01mtypes\u001b[39;00m \u001b[38;5;28;01mimport\u001b[39;00m \u001b[38;5;241m*\u001b[39m\n\u001b[1;32m     37\u001b[0m OPEN_ISSUE_MESSAGE \u001b[38;5;241m=\u001b[39m \u001b[38;5;124mf\u001b[39m\u001b[38;5;124m\"\u001b[39m\u001b[38;5;132;01m{\u001b[39;00mFore\u001b[38;5;241m.\u001b[39mRED\u001b[38;5;132;01m}\u001b[39;00m\u001b[38;5;124mOops, this is an error that hasn\u001b[39m\u001b[38;5;124m'\u001b[39m\u001b[38;5;124mt yet been properly handled.\u001b[39m\u001b[38;5;130;01m\\n\u001b[39;00m\u001b[38;5;124mPlease open an issue on Github at https://github.com/Danie1/threads-api.\u001b[39m\u001b[38;5;132;01m{\u001b[39;00mStyle\u001b[38;5;241m.\u001b[39mRESET_ALL\u001b[38;5;132;01m}\u001b[39;00m\u001b[38;5;124m\"\u001b[39m\n\u001b[1;32m     39\u001b[0m BASE_URL \u001b[38;5;241m=\u001b[39m \u001b[38;5;124m\"\u001b[39m\u001b[38;5;124mhttps://i.instagram.com/api/v1\u001b[39m\u001b[38;5;124m\"\u001b[39m\n",
      "File \u001b[0;32m~/Documents/GitHub/reorganism-insta/instaenv/lib/python3.12/site-packages/threads_api/src/types.py:134\u001b[0m\n\u001b[1;32m    131\u001b[0m \u001b[38;5;28;01mclass\u001b[39;00m \u001b[38;5;21;01mCarouselMedia\u001b[39;00m(BaseModel):\n\u001b[1;32m    132\u001b[0m     image_versions2: Dict[\u001b[38;5;28mstr\u001b[39m, List[ImageVersion]] \u001b[38;5;241m=\u001b[39m \u001b[38;5;28;01mNone\u001b[39;00m\n\u001b[0;32m--> 134\u001b[0m \u001b[38;5;28;43;01mclass\u001b[39;49;00m\u001b[43m \u001b[49m\u001b[38;5;21;43;01mVideoVersion\u001b[39;49;00m\u001b[43m(\u001b[49m\u001b[43mBaseModel\u001b[49m\u001b[43m)\u001b[49m\u001b[43m:\u001b[49m\n\u001b[1;32m    135\u001b[0m \u001b[43m    \u001b[49m\u001b[38;5;28;43mtype\u001b[39;49m\u001b[43m:\u001b[49m\u001b[43m \u001b[49m\u001b[43mOptional\u001b[49m\u001b[43m[\u001b[49m\u001b[38;5;28;43mint\u001b[39;49m\u001b[43m]\u001b[49m\u001b[43m \u001b[49m\u001b[38;5;241;43m=\u001b[39;49m\u001b[43m \u001b[49m\u001b[38;5;28;43;01mNone\u001b[39;49;00m\n\u001b[1;32m    136\u001b[0m \u001b[43m    \u001b[49m\u001b[43murl\u001b[49m\u001b[43m:\u001b[49m\u001b[43m \u001b[49m\u001b[43mOptional\u001b[49m\u001b[43m[\u001b[49m\u001b[38;5;28;43mstr\u001b[39;49m\u001b[43m]\u001b[49m\u001b[43m \u001b[49m\u001b[38;5;241;43m=\u001b[39;49m\u001b[43m \u001b[49m\u001b[38;5;28;43;01mNone\u001b[39;49;00m\n",
      "File \u001b[0;32m~/Documents/GitHub/reorganism-insta/instaenv/lib/python3.12/site-packages/pydantic/_internal/_model_construction.py:93\u001b[0m, in \u001b[0;36mModelMetaclass.__new__\u001b[0;34m(mcs, cls_name, bases, namespace, __pydantic_generic_metadata__, __pydantic_reset_parent_namespace__, _create_model_module, **kwargs)\u001b[0m\n\u001b[1;32m     91\u001b[0m config_wrapper \u001b[38;5;241m=\u001b[39m ConfigWrapper\u001b[38;5;241m.\u001b[39mfor_model(bases, namespace, kwargs)\n\u001b[1;32m     92\u001b[0m namespace[\u001b[38;5;124m'\u001b[39m\u001b[38;5;124mmodel_config\u001b[39m\u001b[38;5;124m'\u001b[39m] \u001b[38;5;241m=\u001b[39m config_wrapper\u001b[38;5;241m.\u001b[39mconfig_dict\n\u001b[0;32m---> 93\u001b[0m private_attributes \u001b[38;5;241m=\u001b[39m \u001b[43minspect_namespace\u001b[49m\u001b[43m(\u001b[49m\n\u001b[1;32m     94\u001b[0m \u001b[43m    \u001b[49m\u001b[43mnamespace\u001b[49m\u001b[43m,\u001b[49m\u001b[43m \u001b[49m\u001b[43mconfig_wrapper\u001b[49m\u001b[38;5;241;43m.\u001b[39;49m\u001b[43mignored_types\u001b[49m\u001b[43m,\u001b[49m\u001b[43m \u001b[49m\u001b[43mclass_vars\u001b[49m\u001b[43m,\u001b[49m\u001b[43m \u001b[49m\u001b[43mbase_field_names\u001b[49m\n\u001b[1;32m     95\u001b[0m \u001b[43m\u001b[49m\u001b[43m)\u001b[49m\n\u001b[1;32m     96\u001b[0m \u001b[38;5;28;01mif\u001b[39;00m private_attributes \u001b[38;5;129;01mor\u001b[39;00m base_private_attributes:\n\u001b[1;32m     97\u001b[0m     original_model_post_init \u001b[38;5;241m=\u001b[39m get_model_post_init(namespace, bases)\n",
      "File \u001b[0;32m~/Documents/GitHub/reorganism-insta/instaenv/lib/python3.12/site-packages/pydantic/_internal/_model_construction.py:381\u001b[0m, in \u001b[0;36minspect_namespace\u001b[0;34m(namespace, ignored_types, base_class_vars, base_class_fields)\u001b[0m\n\u001b[1;32m    379\u001b[0m \u001b[38;5;28;01melif\u001b[39;00m \u001b[38;5;28misinstance\u001b[39m(value, FieldInfo) \u001b[38;5;129;01mand\u001b[39;00m \u001b[38;5;129;01mnot\u001b[39;00m is_valid_field_name(var_name):\n\u001b[1;32m    380\u001b[0m     suggested_name \u001b[38;5;241m=\u001b[39m var_name\u001b[38;5;241m.\u001b[39mlstrip(\u001b[38;5;124m'\u001b[39m\u001b[38;5;124m_\u001b[39m\u001b[38;5;124m'\u001b[39m) \u001b[38;5;129;01mor\u001b[39;00m \u001b[38;5;124m'\u001b[39m\u001b[38;5;124mmy_field\u001b[39m\u001b[38;5;124m'\u001b[39m  \u001b[38;5;66;03m# don't suggest '' for all-underscore name\u001b[39;00m\n\u001b[0;32m--> 381\u001b[0m     \u001b[38;5;28;01mraise\u001b[39;00m \u001b[38;5;167;01mNameError\u001b[39;00m(\n\u001b[1;32m    382\u001b[0m         \u001b[38;5;124mf\u001b[39m\u001b[38;5;124m'\u001b[39m\u001b[38;5;124mFields must not use names with leading underscores;\u001b[39m\u001b[38;5;124m'\u001b[39m\n\u001b[1;32m    383\u001b[0m         \u001b[38;5;124mf\u001b[39m\u001b[38;5;124m'\u001b[39m\u001b[38;5;124m e.g., use \u001b[39m\u001b[38;5;132;01m{\u001b[39;00msuggested_name\u001b[38;5;132;01m!r}\u001b[39;00m\u001b[38;5;124m instead of \u001b[39m\u001b[38;5;132;01m{\u001b[39;00mvar_name\u001b[38;5;132;01m!r}\u001b[39;00m\u001b[38;5;124m.\u001b[39m\u001b[38;5;124m'\u001b[39m\n\u001b[1;32m    384\u001b[0m     )\n\u001b[1;32m    386\u001b[0m \u001b[38;5;28;01melif\u001b[39;00m var_name\u001b[38;5;241m.\u001b[39mstartswith(\u001b[38;5;124m'\u001b[39m\u001b[38;5;124m__\u001b[39m\u001b[38;5;124m'\u001b[39m):\n\u001b[1;32m    387\u001b[0m     \u001b[38;5;28;01mcontinue\u001b[39;00m\n",
      "\u001b[0;31mNameError\u001b[0m: Fields must not use names with leading underscores; e.g., use 'typename' instead of '_typename'."
     ]
    }
   ],
   "source": [
    "from threads_api.src.threads_api import ThreadsAPI"
   ]
  },
  {
   "cell_type": "code",
   "execution_count": 10,
   "metadata": {},
   "outputs": [
    {
     "ename": "ImportError",
     "evalue": "cannot import name 'UNICODE_EMOJI' from 'emoji.unicode_codes' (/Users/reorganism/Documents/GitHub/reorganism-insta/instaenv/lib/python3.12/site-packages/emoji/unicode_codes/__init__.py)",
     "output_type": "error",
     "traceback": [
      "\u001b[0;31m---------------------------------------------------------------------------\u001b[0m",
      "\u001b[0;31mImportError\u001b[0m                               Traceback (most recent call last)",
      "Cell \u001b[0;32mIn[10], line 1\u001b[0m\n\u001b[0;32m----> 1\u001b[0m \u001b[38;5;28;01mfrom\u001b[39;00m \u001b[38;5;21;01minstapy\u001b[39;00m \u001b[38;5;28;01mimport\u001b[39;00m InstaPy\n\u001b[1;32m      3\u001b[0m session \u001b[38;5;241m=\u001b[39m InstaPy(username\u001b[38;5;241m=\u001b[39m\u001b[38;5;124m\"\u001b[39m\u001b[38;5;124mreorganism.in\u001b[39m\u001b[38;5;124m\"\u001b[39m, password\u001b[38;5;241m=\u001b[39m\u001b[38;5;124m\"\u001b[39m\u001b[38;5;124msexyboy@reorganism\u001b[39m\u001b[38;5;124m\"\u001b[39m)\n\u001b[1;32m      4\u001b[0m session\u001b[38;5;241m.\u001b[39mlogin()\n",
      "File \u001b[0;32m~/Documents/GitHub/reorganism-insta/instaenv/lib/python3.12/site-packages/instapy/__init__.py:6\u001b[0m\n\u001b[1;32m      1\u001b[0m \u001b[38;5;66;03m# flake8: noqa\u001b[39;00m\n\u001b[1;32m      2\u001b[0m \n\u001b[1;32m      3\u001b[0m \u001b[38;5;66;03m# __variables__ with double-quoted values will be available in setup.py\u001b[39;00m\n\u001b[1;32m      4\u001b[0m __version__ \u001b[38;5;241m=\u001b[39m \u001b[38;5;124m\"\u001b[39m\u001b[38;5;124m0.6.16\u001b[39m\u001b[38;5;124m\"\u001b[39m\n\u001b[0;32m----> 6\u001b[0m \u001b[38;5;28;01mfrom\u001b[39;00m \u001b[38;5;21;01m.\u001b[39;00m\u001b[38;5;21;01minstapy\u001b[39;00m \u001b[38;5;28;01mimport\u001b[39;00m InstaPy\n\u001b[1;32m      7\u001b[0m \u001b[38;5;28;01mfrom\u001b[39;00m \u001b[38;5;21;01m.\u001b[39;00m\u001b[38;5;21;01mutil\u001b[39;00m \u001b[38;5;28;01mimport\u001b[39;00m smart_run\n\u001b[1;32m      8\u001b[0m \u001b[38;5;28;01mfrom\u001b[39;00m \u001b[38;5;21;01m.\u001b[39;00m\u001b[38;5;21;01msettings\u001b[39;00m \u001b[38;5;28;01mimport\u001b[39;00m Settings\n",
      "File \u001b[0;32m~/Documents/GitHub/reorganism-insta/instaenv/lib/python3.12/site-packages/instapy/instapy.py:34\u001b[0m\n\u001b[1;32m     32\u001b[0m \u001b[38;5;66;03m# import InstaPy modules\u001b[39;00m\n\u001b[1;32m     33\u001b[0m \u001b[38;5;28;01mfrom\u001b[39;00m \u001b[38;5;21;01m.\u001b[39;00m \u001b[38;5;28;01mimport\u001b[39;00m __version__\n\u001b[0;32m---> 34\u001b[0m \u001b[38;5;28;01mfrom\u001b[39;00m \u001b[38;5;21;01m.\u001b[39;00m\u001b[38;5;21;01mbrowser\u001b[39;00m \u001b[38;5;28;01mimport\u001b[39;00m close_browser, set_selenium_local_session\n\u001b[1;32m     35\u001b[0m \u001b[38;5;28;01mfrom\u001b[39;00m \u001b[38;5;21;01m.\u001b[39;00m\u001b[38;5;21;01mclarifai_util\u001b[39;00m \u001b[38;5;28;01mimport\u001b[39;00m check_image\n\u001b[1;32m     36\u001b[0m \u001b[38;5;28;01mfrom\u001b[39;00m \u001b[38;5;21;01m.\u001b[39;00m\u001b[38;5;21;01mcomment_util\u001b[39;00m \u001b[38;5;28;01mimport\u001b[39;00m comment_image, get_comments_on_post, process_comments\n",
      "File \u001b[0;32m~/Documents/GitHub/reorganism-insta/instaenv/lib/python3.12/site-packages/instapy/browser.py:14\u001b[0m\n\u001b[1;32m     11\u001b[0m \u001b[38;5;28;01mfrom\u001b[39;00m \u001b[38;5;21;01mwebdriverdownloader\u001b[39;00m \u001b[38;5;28;01mimport\u001b[39;00m GeckoDriverDownloader\n\u001b[1;32m     13\u001b[0m \u001b[38;5;66;03m# import InstaPy modules\u001b[39;00m\n\u001b[0;32m---> 14\u001b[0m \u001b[38;5;28;01mfrom\u001b[39;00m \u001b[38;5;21;01m.\u001b[39;00m\u001b[38;5;21;01mutil\u001b[39;00m \u001b[38;5;28;01mimport\u001b[39;00m interruption_handler\n\u001b[1;32m     15\u001b[0m \u001b[38;5;28;01mfrom\u001b[39;00m \u001b[38;5;21;01m.\u001b[39;00m\u001b[38;5;21;01mutil\u001b[39;00m \u001b[38;5;28;01mimport\u001b[39;00m highlight_print\n\u001b[1;32m     16\u001b[0m \u001b[38;5;28;01mfrom\u001b[39;00m \u001b[38;5;21;01m.\u001b[39;00m\u001b[38;5;21;01mutil\u001b[39;00m \u001b[38;5;28;01mimport\u001b[39;00m emergency_exit\n",
      "File \u001b[0;32m~/Documents/GitHub/reorganism-insta/instaenv/lib/python3.12/site-packages/instapy/util.py:27\u001b[0m\n\u001b[1;32m     25\u001b[0m \u001b[38;5;28;01mimport\u001b[39;00m \u001b[38;5;21;01mregex\u001b[39;00m\n\u001b[1;32m     26\u001b[0m \u001b[38;5;28;01mfrom\u001b[39;00m \u001b[38;5;21;01mbs4\u001b[39;00m \u001b[38;5;28;01mimport\u001b[39;00m BeautifulSoup\n\u001b[0;32m---> 27\u001b[0m \u001b[38;5;28;01mfrom\u001b[39;00m \u001b[38;5;21;01memoji\u001b[39;00m\u001b[38;5;21;01m.\u001b[39;00m\u001b[38;5;21;01municode_codes\u001b[39;00m \u001b[38;5;28;01mimport\u001b[39;00m UNICODE_EMOJI\n\u001b[1;32m     29\u001b[0m \u001b[38;5;66;03m# import exceptions\u001b[39;00m\n\u001b[1;32m     30\u001b[0m \u001b[38;5;28;01mfrom\u001b[39;00m \u001b[38;5;21;01mselenium\u001b[39;00m\u001b[38;5;21;01m.\u001b[39;00m\u001b[38;5;21;01mcommon\u001b[39;00m\u001b[38;5;21;01m.\u001b[39;00m\u001b[38;5;21;01mexceptions\u001b[39;00m \u001b[38;5;28;01mimport\u001b[39;00m (\n\u001b[1;32m     31\u001b[0m     NoSuchElementException,\n\u001b[1;32m     32\u001b[0m     StaleElementReferenceException,\n\u001b[1;32m     33\u001b[0m     TimeoutException,\n\u001b[1;32m     34\u001b[0m     WebDriverException,\n\u001b[1;32m     35\u001b[0m )\n",
      "\u001b[0;31mImportError\u001b[0m: cannot import name 'UNICODE_EMOJI' from 'emoji.unicode_codes' (/Users/reorganism/Documents/GitHub/reorganism-insta/instaenv/lib/python3.12/site-packages/emoji/unicode_codes/__init__.py)"
     ]
    }
   ],
   "source": [
    "from instapy import InstaPy\n",
    "\n",
    "session = InstaPy(username=\"reorganism.in\", password=\"sexyboy@reorganism\")\n",
    "session.login()\n"
   ]
  },
  {
   "cell_type": "code",
   "execution_count": 9,
   "metadata": {},
   "outputs": [
    {
     "ename": "ImportError",
     "evalue": "cannot import name 'UNICODE_EMOJI' from 'emoji.unicode_codes' (/Users/reorganism/Documents/GitHub/reorganism-insta/instaenv/lib/python3.12/site-packages/emoji/unicode_codes/__init__.py)",
     "output_type": "error",
     "traceback": [
      "\u001b[0;31m---------------------------------------------------------------------------\u001b[0m",
      "\u001b[0;31mImportError\u001b[0m                               Traceback (most recent call last)",
      "Cell \u001b[0;32mIn[9], line 1\u001b[0m\n\u001b[0;32m----> 1\u001b[0m \u001b[38;5;28;01mfrom\u001b[39;00m \u001b[38;5;21;01minstapy\u001b[39;00m \u001b[38;5;28;01mimport\u001b[39;00m InstaPy\n\u001b[1;32m      3\u001b[0m session \u001b[38;5;241m=\u001b[39m InstaPy(username\u001b[38;5;241m=\u001b[39m\u001b[38;5;124m\"\u001b[39m\u001b[38;5;124mreorganism.in\u001b[39m\u001b[38;5;124m\"\u001b[39m, password\u001b[38;5;241m=\u001b[39m\u001b[38;5;124m\"\u001b[39m\u001b[38;5;124msexyboy@reorganism\u001b[39m\u001b[38;5;124m\"\u001b[39m)\n\u001b[1;32m      4\u001b[0m session\u001b[38;5;241m.\u001b[39mlogin()\n",
      "File \u001b[0;32m~/Documents/GitHub/reorganism-insta/instaenv/lib/python3.12/site-packages/instapy/__init__.py:6\u001b[0m\n\u001b[1;32m      1\u001b[0m \u001b[38;5;66;03m# flake8: noqa\u001b[39;00m\n\u001b[1;32m      2\u001b[0m \n\u001b[1;32m      3\u001b[0m \u001b[38;5;66;03m# __variables__ with double-quoted values will be available in setup.py\u001b[39;00m\n\u001b[1;32m      4\u001b[0m __version__ \u001b[38;5;241m=\u001b[39m \u001b[38;5;124m\"\u001b[39m\u001b[38;5;124m0.6.16\u001b[39m\u001b[38;5;124m\"\u001b[39m\n\u001b[0;32m----> 6\u001b[0m \u001b[38;5;28;01mfrom\u001b[39;00m \u001b[38;5;21;01m.\u001b[39;00m\u001b[38;5;21;01minstapy\u001b[39;00m \u001b[38;5;28;01mimport\u001b[39;00m InstaPy\n\u001b[1;32m      7\u001b[0m \u001b[38;5;28;01mfrom\u001b[39;00m \u001b[38;5;21;01m.\u001b[39;00m\u001b[38;5;21;01mutil\u001b[39;00m \u001b[38;5;28;01mimport\u001b[39;00m smart_run\n\u001b[1;32m      8\u001b[0m \u001b[38;5;28;01mfrom\u001b[39;00m \u001b[38;5;21;01m.\u001b[39;00m\u001b[38;5;21;01msettings\u001b[39;00m \u001b[38;5;28;01mimport\u001b[39;00m Settings\n",
      "File \u001b[0;32m~/Documents/GitHub/reorganism-insta/instaenv/lib/python3.12/site-packages/instapy/instapy.py:34\u001b[0m\n\u001b[1;32m     32\u001b[0m \u001b[38;5;66;03m# import InstaPy modules\u001b[39;00m\n\u001b[1;32m     33\u001b[0m \u001b[38;5;28;01mfrom\u001b[39;00m \u001b[38;5;21;01m.\u001b[39;00m \u001b[38;5;28;01mimport\u001b[39;00m __version__\n\u001b[0;32m---> 34\u001b[0m \u001b[38;5;28;01mfrom\u001b[39;00m \u001b[38;5;21;01m.\u001b[39;00m\u001b[38;5;21;01mbrowser\u001b[39;00m \u001b[38;5;28;01mimport\u001b[39;00m close_browser, set_selenium_local_session\n\u001b[1;32m     35\u001b[0m \u001b[38;5;28;01mfrom\u001b[39;00m \u001b[38;5;21;01m.\u001b[39;00m\u001b[38;5;21;01mclarifai_util\u001b[39;00m \u001b[38;5;28;01mimport\u001b[39;00m check_image\n\u001b[1;32m     36\u001b[0m \u001b[38;5;28;01mfrom\u001b[39;00m \u001b[38;5;21;01m.\u001b[39;00m\u001b[38;5;21;01mcomment_util\u001b[39;00m \u001b[38;5;28;01mimport\u001b[39;00m comment_image, get_comments_on_post, process_comments\n",
      "File \u001b[0;32m~/Documents/GitHub/reorganism-insta/instaenv/lib/python3.12/site-packages/instapy/browser.py:14\u001b[0m\n\u001b[1;32m     11\u001b[0m \u001b[38;5;28;01mfrom\u001b[39;00m \u001b[38;5;21;01mwebdriverdownloader\u001b[39;00m \u001b[38;5;28;01mimport\u001b[39;00m GeckoDriverDownloader\n\u001b[1;32m     13\u001b[0m \u001b[38;5;66;03m# import InstaPy modules\u001b[39;00m\n\u001b[0;32m---> 14\u001b[0m \u001b[38;5;28;01mfrom\u001b[39;00m \u001b[38;5;21;01m.\u001b[39;00m\u001b[38;5;21;01mutil\u001b[39;00m \u001b[38;5;28;01mimport\u001b[39;00m interruption_handler\n\u001b[1;32m     15\u001b[0m \u001b[38;5;28;01mfrom\u001b[39;00m \u001b[38;5;21;01m.\u001b[39;00m\u001b[38;5;21;01mutil\u001b[39;00m \u001b[38;5;28;01mimport\u001b[39;00m highlight_print\n\u001b[1;32m     16\u001b[0m \u001b[38;5;28;01mfrom\u001b[39;00m \u001b[38;5;21;01m.\u001b[39;00m\u001b[38;5;21;01mutil\u001b[39;00m \u001b[38;5;28;01mimport\u001b[39;00m emergency_exit\n",
      "File \u001b[0;32m~/Documents/GitHub/reorganism-insta/instaenv/lib/python3.12/site-packages/instapy/util.py:27\u001b[0m\n\u001b[1;32m     25\u001b[0m \u001b[38;5;28;01mimport\u001b[39;00m \u001b[38;5;21;01mregex\u001b[39;00m\n\u001b[1;32m     26\u001b[0m \u001b[38;5;28;01mfrom\u001b[39;00m \u001b[38;5;21;01mbs4\u001b[39;00m \u001b[38;5;28;01mimport\u001b[39;00m BeautifulSoup\n\u001b[0;32m---> 27\u001b[0m \u001b[38;5;28;01mfrom\u001b[39;00m \u001b[38;5;21;01memoji\u001b[39;00m\u001b[38;5;21;01m.\u001b[39;00m\u001b[38;5;21;01municode_codes\u001b[39;00m \u001b[38;5;28;01mimport\u001b[39;00m UNICODE_EMOJI\n\u001b[1;32m     29\u001b[0m \u001b[38;5;66;03m# import exceptions\u001b[39;00m\n\u001b[1;32m     30\u001b[0m \u001b[38;5;28;01mfrom\u001b[39;00m \u001b[38;5;21;01mselenium\u001b[39;00m\u001b[38;5;21;01m.\u001b[39;00m\u001b[38;5;21;01mcommon\u001b[39;00m\u001b[38;5;21;01m.\u001b[39;00m\u001b[38;5;21;01mexceptions\u001b[39;00m \u001b[38;5;28;01mimport\u001b[39;00m (\n\u001b[1;32m     31\u001b[0m     NoSuchElementException,\n\u001b[1;32m     32\u001b[0m     StaleElementReferenceException,\n\u001b[1;32m     33\u001b[0m     TimeoutException,\n\u001b[1;32m     34\u001b[0m     WebDriverException,\n\u001b[1;32m     35\u001b[0m )\n",
      "\u001b[0;31mImportError\u001b[0m: cannot import name 'UNICODE_EMOJI' from 'emoji.unicode_codes' (/Users/reorganism/Documents/GitHub/reorganism-insta/instaenv/lib/python3.12/site-packages/emoji/unicode_codes/__init__.py)"
     ]
    }
   ],
   "source": [
    "\n",
    "session.post(\"path/to/image.jpg\", caption=\"Your caption here\")\n",
    "session.end()"
   ]
  },
  {
   "cell_type": "code",
   "execution_count": 1,
   "metadata": {},
   "outputs": [],
   "source": [
    "username = 'reorganism.in'\n",
    "password = 'sexyboy@reorganism'"
   ]
  },
  {
   "cell_type": "code",
   "execution_count": 3,
   "metadata": {},
   "outputs": [
    {
     "ename": "NameError",
     "evalue": "name 'asyncio' is not defined",
     "output_type": "error",
     "traceback": [
      "\u001b[0;31m---------------------------------------------------------------------------\u001b[0m",
      "\u001b[0;31mNameError\u001b[0m                                 Traceback (most recent call last)",
      "Cell \u001b[0;32mIn[3], line 20\u001b[0m\n\u001b[1;32m     17\u001b[0m     \u001b[38;5;28;01mawait\u001b[39;00m post()\n\u001b[1;32m     19\u001b[0m \u001b[38;5;66;03m# Run the main function\u001b[39;00m\n\u001b[0;32m---> 20\u001b[0m \u001b[43masyncio\u001b[49m\u001b[38;5;241m.\u001b[39mrun(main())\n",
      "\u001b[0;31mNameError\u001b[0m: name 'asyncio' is not defined"
     ]
    }
   ],
   "source": [
    "\n",
    "async def post():\n",
    "    api = ThreadsAPI()\n",
    "    \n",
    "    await api.login(username, password, cached_token_path=\".token\")\n",
    "    result = await api.post(caption=\"Posting this from the Danie1/threads-api!\", image_path=\".github/logo.jpg\")\n",
    "\n",
    "\n",
    "    if result:\n",
    "        print(\"Post has been successfully posted\")\n",
    "    else:\n",
    "        print(\"Unable to post.\")\n",
    "    \n",
    "    await api.close_gracefully()\n",
    "    \n",
    "\n",
    "async def main():\n",
    "    await post()\n",
    "\n",
    "# Run the main function\n",
    "asyncio.run(main())"
   ]
  },
  {
   "cell_type": "code",
   "execution_count": null,
   "metadata": {},
   "outputs": [],
   "source": []
  }
 ],
 "metadata": {
  "kernelspec": {
   "display_name": "instaenv",
   "language": "python",
   "name": "python3"
  },
  "language_info": {
   "codemirror_mode": {
    "name": "ipython",
    "version": 3
   },
   "file_extension": ".py",
   "mimetype": "text/x-python",
   "name": "python",
   "nbconvert_exporter": "python",
   "pygments_lexer": "ipython3",
   "version": "3.12.3"
  }
 },
 "nbformat": 4,
 "nbformat_minor": 2
}
